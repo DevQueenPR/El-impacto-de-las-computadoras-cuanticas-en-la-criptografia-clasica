{
  "cells": [
    {
      "cell_type": "markdown",
      "metadata": {
        "id": "ovLeVjxEDuYA"
      },
      "source": [
        "#Introducción\n",
        "\n",
        "\n",
        "\n"
      ]
    },
    {
      "cell_type": "markdown",
      "metadata": {
        "id": "1foshaBOR3H0"
      },
      "source": [
        "<h1>💻 El impacto futuro de las computadoras cuánticas en la criptografía clásica</h1>\n",
        "\n",
        "Las computadoras cuánticas están transformando rápidamente el panorama de la criptografía clásica. Su capacidad para resolver problemas complejos de manera exponencialmente más eficiente amenaza la seguridad de algoritmos fundamentales en la actualidad, como AES, Sha-2 y 3, RSA, Diffie-Hellman y ECC. 🚀\n",
        "\n",
        "A medida que avanza esta revolución cuántica, los sistemas de cifrado deberán adaptarse con estrategias como la criptografía post-cuántica 🛡️ para garantizar un futuro seguro en la era digital.\n",
        "\n",
        "🌐 La computación cuántica no solo desafía, sino también redefine los estándares de seguridad que conocemos hoy."
      ]
    },
    {
      "cell_type": "markdown",
      "metadata": {
        "id": "He_DMRR1Dx7Y"
      },
      "source": [
        "# Estudio"
      ]
    },
    {
      "cell_type": "markdown",
      "metadata": {
        "id": "wP8jDtdeEFSS"
      },
      "source": [
        "<h1>📚 Próposito del estudio</h1>\n",
        "\n",
        "<p>Este estudio tiene como propósito analizar el impacto futuro de los algoritmos cuánticos, <b>Shor</b> y <b>Grover</b>, en algoritmos de la criptografía clásica como lo son <b>AES</b>, <b>Sha-2</b>, <b>Sha-3</b>, <b>RSA</b>, <b>ECC</b> y <b>Diffie-Hellman</b>. </p>\n",
        "\n",
        "<p>🔍 Se pretende basarse en principios de la computación cuántica y la criptografía clásica, destacando cómo los algoritmos cuánticos desafían los esquemas de seguridad actuales. Es importante reconocer que esto es una **simulación** y no una emulación, debido a las limitaciones actuales del desarrollo en esta área. La computación cuántica está en constante evolución, con un progreso altamente dinámico que implica que el desarrollo de algoritmos y tecnologías asociadas puede ser inestable y cambiar significativamente con el tiempo.</p>\n",
        "\n",
        "<p>💡 En este estudio, se presenta cada uno de los algoritmos clásicos mencionados, el algoritmo cuántico que los afecta y un ataque de fuerza bruta que demuestra, mediante una aproximación matemática, el tiempo de ejecución de un algoritmo clásico versus cuántico.</p>\n",
        "\n",
        "<h1>⚙️ Análisis del modelo teórico matemático</h1>\n",
        "\n",
        "<p>🧠 Es importante destacar que los algoritmos cuánticos no se codifican literalmente en las simulaciones clásicas debido a la complejidad y las diferencias fundamentales en los procesos que realizan.</p>\n",
        "\n",
        "<h2>✨ Grover</h2>\n",
        "\n",
        "<p>En el caso del algoritmo de <b>Grover</b>, por ejemplo, el análisis matemático toma como base el tiempo requerido por un ataque de fuerza bruta clásico y aplica la raíz cuadrada del número total de posibilidades, lo que da una estimación teórica del tiempo que tomaría el algoritmo cuántico. Sin embargo, este enfoque es una aproximación matemática, ya que la implementación real del algoritmo de Grover incluye procesos específicos y complejos que no son directamente traducibles en un sistema clásico.</p>\n",
        "\n",
        "<h2>🔑 Shor</h2>\n",
        "\n",
        "<p>En el caso de <b>Shor</b>, el análisis matemático utiliza principios teóricos para calcular el tiempo requerido para factorizar un número grande, mostrando una ventaja exponencial frente a los métodos clásicos. Sin embargo, estos cálculos son aproximaciones teóricas basadas en el modelo matemático del algoritmo. La implementación real del algoritmo de Shor incluye procesos cuánticos específicos, como la transformación de Fourier cuántica, que no pueden ser replicados directamente en una simulación clásica.</p>\n",
        "\n",
        "<h2>📊 Justificación del enfoque</h2>\n",
        "\n",
        "<p>🔬 Como fue mencionado anteriormente, se tomó este enfoque matemático teórico debido a que la computación cuántica está en constante evolución. Las pruebas realizadas diariamente conducen a la implementación de nuevos controles, versiones, librerías y funciones cada mes. Esto provoca que algunos componentes sean reescritos o reemplazados, creando un ambiente inestable en la actualidad. Para superar esta limitación, se optó por un análisis matemático teórico que proporciona una aproximación precisa de los algoritmos cuánticos. A pesar de que esta aproximación no implica una implementación literal, se considera una representación certera de sus principios y resultados.</p>\n"
      ]
    },
    {
      "cell_type": "markdown",
      "metadata": {
        "id": "GoLpgOjCbqsM"
      },
      "source": [
        "#Nota Importante"
      ]
    },
    {
      "cell_type": "markdown",
      "metadata": {
        "id": "uLdqlqWhbwJA"
      },
      "source": [
        "Este documento presenta la ejecución de los códigos en Google Colab, lo que permite visualizar su funcionamiento. Sin embargo, debido a la naturaleza de los servidores de Colab, los tiempos medidos pueden **no ser completamente precisos**, ya que pueden verse afectados por interrupciones en la ejecución y latencias en el sistema. Para obtener mediciones más exactas del tiempo de ejecución, se recomienda utilizar VS Code, que es la herramienta adecuada para calcular los tiempos de manera correcta y precisa. Para el estudio es utilizado VS code para una presición certera, sin embargo se provee este documento para una **visualización**.\n",
        "\n",
        "Para ver los videos donde se encuentra su ejecución de manera certera, visite el siguiente enlace: https://github.com/DevQueenPR/El-impacto-de-las-computadoras-cuanticas-en-la-criptografia-clasica"
      ]
    },
    {
      "cell_type": "markdown",
      "metadata": {
        "id": "8EIq7EIyqUXj"
      },
      "source": [
        "# ¿Cómo ejecutar una celda en Google Collab?"
      ]
    },
    {
      "cell_type": "markdown",
      "metadata": {
        "id": "7-gQWC5RqZ12"
      },
      "source": [
        "![Image.png](data:image/png;base64,iVBORw0KGgoAAAANSUhEUgAAACAAAAAcCAYAAAAAwr0iAAAAAXNSR0IArs4c6QAAAARnQU1BAACxjwv8YQUAAAAJcEhZcwAAEnQAABJ0Ad5mH3gAAAILSURBVEhL7ZY7bNNAGMf/hXiMrYxmiEQHZ3eGWCpTsfeyAFLbpe3GQ30swIAyAUsf4iFeSZa2ErDQndKJSueh2eMh2bgpQ7xeJFjAwp/vzo6KGiHxG3+fz/fX+fNnz1Sr1R+YIpeouGj+3QCmZcK0TKonZmaSHvADHw3Pg1NzYBgGAEAIgagXIWQMx1+O6ZJcCgVw6y4Wl5dg2zYtpeCc43D/AN2zLi0pyQ3gBz5W1lap1tJptQufhrYH3Lo78eYAsLK2CrfuUi1FG2BxeYkqhIwh6vWoziBbK0MZwA985TNvPm6i9e49hsMhLSXYtg0/CKjOoAzQ8DyqUpx8PcHG/XUcfT6ipYSG16AqgzKAU3OoyjAej/Hpw0dsbWzi9NspLRe6hzSAaZnJe14E/p3j1YuXePbkaao/DMPIHVbSABeJNEA8iiGEoFqJfcXGnXt38eDRQzi1WuKFEIhHcepaijQAAES9iKoMpVIJN2/fwvbuDuauzdFyoXsoA4SMUZVi/vo8dp/vYeHGAi0lhCykKoN2FG/v7WRmQcgYKpVK6qhlcM6xtb5JdQblCQDA4f4BVb++hvrNoVgrQxuge9ZFp9WmOpdOq134i3jZsqwmlX/S7/cxGAxwdXYW5XKZllNwzvH29RvpUFKh7QHK1H5IZPyecHnveR7aHtARj+Jzb47zBPhb/A8w9QA/AaKPqSTr9xoXAAAAAElFTkSuQmCC) <p>Utiliza este botón que se encuentra el la izquerda al situarse en una celda, o presiona <strong>Shift + Enter</strong> en cada celda.</p>\n",
        "\n"
      ]
    },
    {
      "cell_type": "markdown",
      "metadata": {
        "id": "6PQ2TiF4TLA4"
      },
      "source": [
        "# Algoritmos Criptográficos Simétricos"
      ]
    },
    {
      "cell_type": "markdown",
      "metadata": {
        "id": "jREGszk4TwYY"
      },
      "source": [
        "🔑 Criptografía Simétrica\n",
        "\n",
        "Los algoritmos simétricos criptográficos son métodos de cifrado donde la misma clave se utiliza tanto para cifrar como para descifrar la información. Estos algoritmos son rápidos y eficientes, lo que los hace ideales para el cifrado de grandes cantidades de datos. Aunque son seguros cuando se utilizan correctamente, su principal desafío radica en el intercambio seguro de la clave entre las partes involucradas.\n",
        "\n",
        "<h2>🔒 Criptografía Simétrica: Flujo de Comunicación<h2>\n",
        "\n",
        "```plaintext\n",
        "Alice ----(1. Clave secreta 🔑 )----> Bob\n",
        "   |                                   ^\n",
        "   |                                   |\n",
        "   |---(2. Mensaje cifrado 📨 )------->|\n",
        "```\n",
        "\n",
        "<h2>Descripción de la criptografía simétrica</h2>\n",
        "\n",
        "1. Alice: Genera el mensaje y lo cifra usando una clave secreta compartida.\n",
        "\n",
        "2. Mensaje cifrado: Se transmite de manera segura al receptor, Bob.\n",
        "\n",
        "3. Bob: Descifra el mensaje utilizando la misma clave 🔑 previamente compartida con Alice."
      ]
    },
    {
      "cell_type": "markdown",
      "metadata": {
        "id": "_8a3cHltTbIp"
      },
      "source": [
        "# AES\n"
      ]
    },
    {
      "cell_type": "code",
      "execution_count": null,
      "metadata": {
        "id": "zTL6NJYGWYeI"
      },
      "outputs": [],
      "source": [
        "# Instala pycryptodomex en Google Colab\n",
        "!pip install pycryptodomex\n",
        "\n",
        "# Importa módulos necesarios\n",
        "from Cryptodome.Cipher import AES\n",
        "import itertools\n",
        "import time\n",
        "import random\n",
        "import math\n",
        "\n",
        "# Función para rellenar con PKCS7\n",
        "def pad_pkcs7(data, block_size=16):\n",
        "    padding_length = block_size - (len(data) % block_size)\n",
        "    return data + bytes([padding_length] * padding_length)\n",
        "\n",
        "# Función para eliminar el padding PKCS7\n",
        "def unpad_pkcs7(data):\n",
        "    padding_length = data[-1]\n",
        "    return data[:-padding_length]\n",
        "\n",
        "# Función para cifrar con AES en modo ECB\n",
        "def encrypt_message(key, plaintext):\n",
        "    cipher = AES.new(key, AES.MODE_ECB)\n",
        "    padded_plaintext = pad_pkcs7(plaintext)\n",
        "    return cipher.encrypt(padded_plaintext)\n",
        "\n",
        "# Función para descifrar con AES en modo ECB\n",
        "def decrypt_message(key, ciphertext):\n",
        "    cipher = AES.new(key, AES.MODE_ECB)\n",
        "    decrypted = cipher.decrypt(ciphertext)\n",
        "    return unpad_pkcs7(decrypted)\n",
        "\n",
        "# Función de fuerza bruta con clave de 2 bytes\n",
        "def brute_force_attack_2bytes(ciphertext, plaintext):\n",
        "    input(\"Press Enter to start brute force attack...\")  # Mensaje para iniciar ataque\n",
        "    start_time = time.monotonic()  # Mide el tiempo real sin interrupciones del sistema\n",
        "    for count, key_tuple in enumerate(itertools.product(range(256), repeat=2)):  # 2 bytes (16 bits)\n",
        "        key = bytes(key_tuple) + b'\\x00' * 14  # Completar a 16 bytes\n",
        "        print(f'Trying key: {key.hex()}', flush=True)  # Muestra las claves probadas\n",
        "\n",
        "        try:\n",
        "            decrypted_text = decrypt_message(key, ciphertext)\n",
        "            if decrypted_text == plaintext:\n",
        "                end_time = time.monotonic()  # Tiempo de finalización\n",
        "                return key, count + 1, end_time - start_time  # Devolver clave, intentos y tiempo\n",
        "        except ValueError:\n",
        "            continue  # Ignora los errores de padding\n",
        "\n",
        "    return None, count + 1, time.monotonic() - start_time  # Si no se encuentra la clave\n",
        "\n",
        "# Simulación de Grover (teórico matemático)\n",
        "def grover_simulation(classical_time):\n",
        "    quantum_time = math.sqrt(classical_time)\n",
        "    return quantum_time\n",
        "\n",
        "# Mensaje\n",
        "plaintext = b'Hello, world!'\n",
        "\n",
        "# Genera una clave random de 2 bytes\n",
        "random_key = bytes([random.randint(0, 255), random.randint(0, 255)]) + b'\\x00' * 14\n",
        "print(f'Generated key (hidden): {random_key[:2].hex()}')\n",
        "\n",
        "# Cifra el mensaje con la clave random\n",
        "ciphertext = encrypt_message(random_key, plaintext)\n",
        "print(f'Ciphertext: {ciphertext.hex()}')\n",
        "\n",
        "# Ejecuta un ataque de fuerza bruta\n",
        "found_key, attempts, elapsed_time = brute_force_attack_2bytes(ciphertext, plaintext)\n",
        "\n",
        "# Simula Grover\n",
        "quantum_time = grover_simulation(elapsed_time)\n",
        "\n",
        "# Muestra resultados\n",
        "if found_key:\n",
        "    print(f'Brute-force succeeded! Key found: {found_key[:2].hex()} in {elapsed_time:.4f} seconds after {attempts} attempts')\n",
        "    print(f'Decrypted message: {plaintext.decode()}')\n",
        "    print(f'Grover’s Algorithm Simulation: Estimated quantum time {quantum_time:.4f} seconds (sqrt speedup)')\n",
        "else:\n",
        "    print('Brute-force attack failed to find the key')\n"
      ]
    },
    {
      "cell_type": "markdown",
      "metadata": {
        "id": "62GAA3i_Fpge"
      },
      "source": []
    },
    {
      "cell_type": "markdown",
      "metadata": {
        "id": "VcYcdLN2FrUO"
      },
      "source": [
        "# Sha 2"
      ]
    },
    {
      "cell_type": "code",
      "execution_count": null,
      "metadata": {
        "id": "6e-wKe42q_1Y"
      },
      "outputs": [],
      "source": [
        "# Instala pycryptodomex en Google Colab\n",
        "!pip install pycryptodomex\n",
        "\n",
        "#importa módulos necesarios\n",
        "from Cryptodome.Hash import SHA256\n",
        "import itertools\n",
        "import time\n",
        "import random\n",
        "import math\n",
        "\n",
        "# Función para calcular SHA-256\n",
        "def hash_sha256(data):\n",
        "    hasher = SHA256.new()\n",
        "    hasher.update(data)\n",
        "    return hasher.digest()\n",
        "\n",
        "# Función de fuerza bruta con clave de 2 bytes\n",
        "def brute_force_attack_2bytes(target_hash, plaintext):\n",
        "    start_time = time.time()\n",
        "    input(\"Press Enter to start brute force attack...\")  # Mensaje para iniciar ataque\n",
        "    for count, key_tuple in enumerate(itertools.product(range(256), repeat=2)):\n",
        "        key = bytes(key_tuple)\n",
        "        print(f'Trying key: {key.hex()}', flush=True)  # Muestra la clave probada\n",
        "        test_hash = hash_sha256(key + plaintext)\n",
        "        if test_hash == target_hash:\n",
        "            end_time = time.time()\n",
        "            return key, count + 1, end_time - start_time\n",
        "    return None, count + 1, time.time() - start_time\n",
        "\n",
        "# Simulación de Grover (teórico)\n",
        "def grover_simulation(classical_time):\n",
        "    quantum_time = math.sqrt(classical_time)\n",
        "    return quantum_time\n",
        "\n",
        "# Definir mensaje de prueba\n",
        "plaintext = b'Hello, world!'\n",
        "\n",
        "# Generar clave aleatoria de 2 bytes\n",
        "random_key = bytes([random.randint(0, 255), random.randint(0, 255)])\n",
        "print(f'Generated key (hidden): {random_key.hex()}')\n",
        "\n",
        "# Calcular hash con SHA-256\n",
        "target_hash_sha256 = hash_sha256(random_key + plaintext)\n",
        "print(f'SHA-256 Hash: {target_hash_sha256.hex()}')\n",
        "\n",
        "# Ejecuta el ataque de fuerza bruta para SHA-256\n",
        "found_key, attempts, elapsed_time = brute_force_attack_2bytes(target_hash_sha256, plaintext)\n",
        "quantum_time = grover_simulation(elapsed_time)\n",
        "\n",
        "# Muestra los resultados\n",
        "if found_key:\n",
        "    print(f'Brute-force SHA-256 succeeded! Key found: {found_key.hex()} in {elapsed_time:.4f} seconds after {attempts} attempts')\n",
        "    print(f'Grover’s Algorithm Simulation: Estimated quantum time {quantum_time:.4f} seconds')\n",
        "else:\n",
        "    print('Brute-force attack on SHA-256 failed to find the key')"
      ]
    },
    {
      "cell_type": "markdown",
      "metadata": {
        "id": "vGQw_rvYSYdN"
      },
      "source": [
        "# Sha 3\n"
      ]
    },
    {
      "cell_type": "code",
      "execution_count": null,
      "metadata": {
        "colab": {
          "base_uri": "https://localhost:8080/"
        },
        "id": "8iAcS6FGSgs_",
        "outputId": "ea34137b-4d90-4f93-bdc2-1dc068282490"
      },
      "outputs": [],
      "source": [
        "# Instala pycryptodomex en Google Colab\n",
        "!pip install pycryptodomex\n",
        "\n",
        "#importa módulos necesarios\n",
        "from Cryptodome.Hash import SHA3_256\n",
        "import itertools\n",
        "import time\n",
        "import random\n",
        "import math\n",
        "\n",
        "# Función para calcular SHA3-256\n",
        "def hash_sha3_256(data):\n",
        "    hasher = SHA3_256.new()\n",
        "    hasher.update(data)\n",
        "    return hasher.digest()\n",
        "\n",
        "# Función de fuerza bruta con clave de 2 bytes\n",
        "def brute_force_attack_2bytes(target_hash, plaintext):\n",
        "    start_time = time.time()\n",
        "    input(\"Press Enter to start brute force attack...\")  # Mensaje para iniciar ataque\n",
        "    for count, key_tuple in enumerate(itertools.product(range(256), repeat=2)):\n",
        "        key = bytes(key_tuple)\n",
        "        print(f'Trying key: {key.hex()}', flush=True)  # Muestra clave probada\n",
        "        test_hash = hash_sha3_256(key + plaintext)\n",
        "        if test_hash == target_hash:\n",
        "            end_time = time.time()\n",
        "            return key, count + 1, end_time - start_time\n",
        "    return None, count + 1, time.time() - start_time\n",
        "\n",
        "# Simulación de Grover (teórico)\n",
        "def grover_simulation(classical_time):\n",
        "    quantum_time = math.sqrt(classical_time)\n",
        "    return quantum_time\n",
        "\n",
        "# Define el mensaje de prueba\n",
        "plaintext = b'Hello, world!'\n",
        "\n",
        "# Genera clave aleatoria de 2 bytes\n",
        "random_key = bytes([random.randint(0, 255), random.randint(0, 255)])\n",
        "print(f'Generated key (hidden): {random_key.hex()}')\n",
        "\n",
        "# Calcula hash con SHA3-256\n",
        "target_hash_sha3_256 = hash_sha3_256(random_key + plaintext)\n",
        "print(f'SHA3-256 Hash: {target_hash_sha3_256.hex()}')\n",
        "\n",
        "# Ejecuta ataque de fuerza bruta para SHA3-256\n",
        "found_key, attempts, elapsed_time = brute_force_attack_2bytes(target_hash_sha3_256, plaintext)\n",
        "quantum_time = grover_simulation(elapsed_time)\n",
        "\n",
        "# Mostra resultados\n",
        "if found_key:\n",
        "    print(f'Brute-force SHA3-256 succeeded! Key found: {found_key.hex()} in {elapsed_time:.4f} seconds after {attempts} attempts')\n",
        "    print(f'Grover’s Algorithm Simulation: Estimated quantum time {quantum_time:.4f} seconds')\n",
        "else:\n",
        "    print('Brute-force attack on SHA3-256 failed to find the key')\n"
      ]
    },
    {
      "cell_type": "markdown",
      "metadata": {
        "id": "Wf6J_YnLV-7r"
      },
      "source": [
        "# Algoritmos Criptográficos Asimétricos"
      ]
    },
    {
      "cell_type": "markdown",
      "metadata": {
        "id": "BqL0HOAPXITZ"
      },
      "source": [
        "🔑 Criptografía Asimétrica\n",
        "\n",
        "A diferencia de la criptografía simétrica, en la criptografía asimétrica se utilizan dos claves diferentes: una clave pública (disponible para todos) y una clave privada (secreta y conocida solo por el receptor). Cada clave sirve para cifrar o descifrar, pero son complementarias.\n",
        "\n",
        "<h2>🔒 Criptografía Simétrica: Flujo de Comunicación<h2>\n",
        "\n",
        "```plaintext\n",
        "\n",
        "Alice ---- (1. Clave pública de Bob 🔓) ----> Bob\n",
        "   |                                          ^\n",
        "   |                                          |\n",
        "   |------ (2. Mensaje cifrado 📨) ------->   |\n",
        "                        |\n",
        "                        V\n",
        "        (3. Bob descifra el mensaje usando su clave privada 🔑)\n",
        "\n",
        "```\n",
        "<h2>Descripción de la criptografía asimétrica:<h2>\n",
        "\n",
        "1. Alice: Obtiene la clave pública de Bob (que está disponible públicamente). Cifra el mensaje con esta clave para garantizar que solo Bob pueda descifrarlo.\n",
        "\n",
        "2. Mensaje cifrado: Se transmite de manera segura al receptor, Bob. Aunque se intercepte el mensaje, nadie puede descifrarlo sin la clave privada de Bob.\n",
        "\n",
        "3. Bob: Descifra el mensaje utilizando su clave privada, que solo él conoce. Esto asegura la confidencialidad de la información."
      ]
    },
    {
      "cell_type": "markdown",
      "metadata": {
        "id": "dtbnWEotgRga"
      },
      "source": [
        "# RSA"
      ]
    },
    {
      "cell_type": "code",
      "execution_count": null,
      "metadata": {
        "colab": {
          "base_uri": "https://localhost:8080/"
        },
        "id": "IYi2ElsAgVur",
        "outputId": "f93ddd37-5128-4625-e8e9-bf5d92ef41aa"
      },
      "outputs": [],
      "source": [
        "# Importa funciones necesarias\n",
        "import random\n",
        "import math\n",
        "import time\n",
        "\n",
        "# Función auxiliar para verificar si un número es primo\n",
        "def is_prime(n):\n",
        "    if n < 2:\n",
        "        return False\n",
        "    for i in range(2, int(math.sqrt(n)) + 1):\n",
        "        if n % i == 0:\n",
        "            return False\n",
        "    return True\n",
        "\n",
        "# Genera un número primo random\n",
        "def generate_prime():\n",
        "    while True:\n",
        "        num = random.randint(10, 100)\n",
        "        if is_prime(num):\n",
        "            return num\n",
        "\n",
        "# Calcula el inverso modular usando fuerza bruta\n",
        "def mod_inverse(e, phi):\n",
        "    for d in range(2, phi):\n",
        "        if (d * e) % phi == 1:\n",
        "            return d\n",
        "    return None\n",
        "\n",
        "# Generación de claves RSA\n",
        "p = generate_prime()\n",
        "q = generate_prime()\n",
        "while p == q:\n",
        "    q = generate_prime()\n",
        "\n",
        "n = p * q\n",
        "phi = (p - 1) * (q - 1)\n",
        "\n",
        "# Elige e tal que 1 < e < phi y gcd(e, phi) = 1\n",
        "e = random.choice([3, 5, 7, 11, 13, 17, 19, 23])\n",
        "while math.gcd(e, phi) != 1:\n",
        "    e += 2  # Asegura de que sea coprimo con phi\n",
        "\n",
        "d = mod_inverse(e, phi)\n",
        "\n",
        "print(f\"RSA keys generated:\")\n",
        "print(f\"Public key: (e={e}, n={n})\")\n",
        "print(f\"Private key: (d={d})\")\n",
        "\n",
        "# Encripta un mensaje usando RSA\n",
        "def encrypt(message, e, n):\n",
        "    return [pow(ord(char), e, n) for char in message]\n",
        "\n",
        "# Desencripta un mensaje usando RSA\n",
        "def decrypt(ciphertext, d, n):\n",
        "    return \"\".join([chr(pow(char, d, n)) for char in ciphertext])\n",
        "\n",
        "message = \"HELLO\"\n",
        "ciphertext = encrypt(message, e, n)\n",
        "\n",
        "print(f\"\\nOriginal message: {message}\")\n",
        "print(f\"Encrypted text: {ciphertext}\")\n",
        "\n",
        "input(\"\\nPress ENTER to start brute force attack...\")\n",
        "\n",
        "# Ataque por fuerza bruta\n",
        "print(\"\\nStarting brute force attack...\")\n",
        "start_time = time.time()\n",
        "\n",
        "found_key = False\n",
        "for d_attempt in range(1, phi):  # Búsqueda de d por fuerza bruta\n",
        "    print(f\"Trying d = {d_attempt}\", flush = True)  # Imprime cada intento en una nueva línea\n",
        "    time.sleep(0.005)\n",
        "    if d_attempt == d:\n",
        "        found_key = True\n",
        "        break\n",
        "\n",
        "end_time = time.time()\n",
        "brute_force_time = end_time - start_time  # Guarda el tiempo del ataque por fuerza bruta\n",
        "\n",
        "if found_key:\n",
        "    print(f\"\\nBrute force attack: Key found! d = {d_attempt}\")\n",
        "else:\n",
        "    print(\"\\nBrute force attack: Key not found in range.\")\n",
        "\n",
        "print(f\"Brute force attack took: {brute_force_time:.4f} seconds\")\n",
        "\n",
        "# Desencripta con la clave encontrada por fuerza bruta\n",
        "decrypted_message = decrypt(ciphertext, d_attempt, n)\n",
        "print(f\"\\nDecrypted message using brute force: {decrypted_message}\")\n",
        "\n",
        "# Simulación del algoritmo de Shor (Factorización de n)\n",
        "print(\"\\nPress ENTER to simulate Shor's algorithm...\")\n",
        "input()\n",
        "print(\"\\nSimulating Shor's algorithm...\")\n",
        "time.sleep(1)\n",
        "\n",
        "shor_start_time = time.time()\n",
        "\n",
        "# Factorización clásica simple usando división de prueba\n",
        "def classical_shor(n):\n",
        "    for factor in range(2, int(math.sqrt(n)) + 1):\n",
        "        if n % factor == 0:\n",
        "            return factor, n // factor\n",
        "    return None, None\n",
        "\n",
        "p_shor, q_shor = classical_shor(n)\n",
        "shor_end_time = time.time()\n",
        "\n",
        "if p_shor and q_shor:\n",
        "    phi_shor = (p_shor - 1) * (q_shor - 1)\n",
        "    d_shor = mod_inverse(e, phi_shor)\n",
        "    print(f\"Factors found by Shor's algorithm: {p_shor}, {q_shor}\")\n",
        "    print(f\"Private key derived from Shor's algorithm: d = {d_shor}\")\n",
        "else:\n",
        "    print(\"Shor's algorithm could not factorize.\")\n",
        "\n",
        "# Calcula y formatea el tiempo del algoritmo de Shor\n",
        "shor_time = brute_force_time / 1_000_000  # Divide el tiempo del ataque por fuerza bruta por 1,000,000\n",
        "print(f\"\\nShor's time = {brute_force_time:.4f} / 1,000,000 = {shor_time:.10f} seconds\")\n"
      ]
    },
    {
      "cell_type": "markdown",
      "metadata": {
        "id": "Z9EJkjgUjZYt"
      },
      "source": [
        "# ECC"
      ]
    },
    {
      "cell_type": "code",
      "execution_count": null,
      "metadata": {
        "colab": {
          "base_uri": "https://localhost:8080/"
        },
        "id": "ueO6_oVDjYlT",
        "outputId": "4cb90041-aba6-47c9-da40-4183edd9883c"
      },
      "outputs": [],
      "source": [
        "import random\n",
        "import time\n",
        "\n",
        "# Define parámetros de la curva elíptica\n",
        "class EllipticCurve:\n",
        "    def __init__(self, a, b, p, G, n):\n",
        "        self.a = a  # Parámetro de la curva a\n",
        "        self.b = b  # Parámetro de la curva b\n",
        "        self.p = p  # Módulo primo\n",
        "        self.G = G  # Punto generador (x, y)\n",
        "        self.n = n  # Orden del grupo\n",
        "\n",
        "# Curva pequeña de ejemplo (No segura, solo para simulación educativa)\n",
        "curve = EllipticCurve(\n",
        "    a=2,\n",
        "    b=3,\n",
        "    p=97,\n",
        "    G=(3, 6),\n",
        "    n=101\n",
        ")\n",
        "\n",
        "# Generación de claves ECC\n",
        "private_key = random.randint(1, curve.n - 1)\n",
        "public_key = (private_key * curve.G[0] % curve.p, private_key * curve.G[1] % curve.p)\n",
        "\n",
        "print(f\"Generated ECC keys:\")\n",
        "print(f\"Public Key: {public_key}\")\n",
        "print(f\"Private Key: {private_key}\")\n",
        "\n",
        "input(\"\\nPress ENTER to start brute force attack...\")\n",
        "\n",
        "# Ataque por fuerza bruta (Probando todas las posibles claves privadas)\n",
        "print(\"\\nStarting brute force attack...\")\n",
        "start_time = time.time()\n",
        "\n",
        "found_key = False\n",
        "for attempt in range(1, curve.n):  # Búsqueda de clave privada por fuerza bruta\n",
        "    generated_point = (attempt * curve.G[0] % curve.p, attempt * curve.G[1] % curve.p)\n",
        "    print(f\"Trying private key = {attempt}\", flush=True)  # Imprime cada intento\n",
        "    time.sleep(0.005)  # Pequeña demora para visibilidad\n",
        "    if generated_point == public_key:\n",
        "        found_key = True\n",
        "        break\n",
        "\n",
        "end_time = time.time()\n",
        "brute_force_time = end_time - start_time  # Guarda el tiempo del ataque por fuerza bruta\n",
        "\n",
        "if found_key:\n",
        "    print(f\"\\nBrute Force Attack: Key found! Private Key = {attempt}\")\n",
        "else:\n",
        "    print(\"\\nBrute Force Attack: Key not found within range.\")\n",
        "\n",
        "print(f\"Brute Force took: {brute_force_time:.4f} seconds\")\n",
        "\n",
        "# Simulación del algoritmo de Shor (Factorización de la clave privada ECC)\n",
        "print(\"\\nPress ENTER to simulate Shor’s Algorithm...\")\n",
        "input()\n",
        "print(\"\\nSimulating Shor’s Algorithm...\")\n",
        "time.sleep(1)  # Simula retraso\n",
        "\n",
        "shor_start_time = time.time()\n",
        "\n",
        "# Resultado simulado (El algoritmo de Shor recuperaría la clave privada)\n",
        "shor_end_time = time.time()\n",
        "\n",
        "# Calcula y formatea el tiempo del algoritmo de Shor\n",
        "shor_time = brute_force_time / 1_000_000  # Divide el tiempo de fuerza bruta por 1,000,000\n",
        "print(f\"\\nTiempo de Shor = {brute_force_time:.4f} / 1,000,000 = {shor_time:.10f} segundos\")\n",
        "\n"
      ]
    },
    {
      "cell_type": "markdown",
      "metadata": {
        "id": "xHu1Rd4PlSTL"
      },
      "source": [
        "# Diff Hellman"
      ]
    },
    {
      "cell_type": "code",
      "execution_count": null,
      "metadata": {
        "colab": {
          "base_uri": "https://localhost:8080/"
        },
        "id": "OIdzNN8wlX1u",
        "outputId": "3cb4fe94-b9a1-44f9-cc83-36bef3c6263f"
      },
      "outputs": [],
      "source": [
        "import random\n",
        "import time\n",
        "\n",
        "# Función para verificar si un número es generador\n",
        "def is_generator(g, p):\n",
        "    return len(set(pow(g, i, p) for i in range(1, p))) == p - 1\n",
        "\n",
        "# Función para generar un número primo dentro de un rango\n",
        "def generate_prime():\n",
        "    primes = [i for i in range(20, 100) if all(i % j != 0 for j in range(2, int(i**0.5) + 1))]\n",
        "    return random.choice(primes)\n",
        "\n",
        "# Función para encontrar un generador\n",
        "def find_generator(p):\n",
        "    for g in range(2, p):\n",
        "        if is_generator(g, p):\n",
        "            return g\n",
        "    return None\n",
        "\n",
        "# Generación de parámetros públicos\n",
        "p = generate_prime()  # Número primo\n",
        "while True:\n",
        "    g = find_generator(p)\n",
        "    if g:\n",
        "        break\n",
        "\n",
        "# Claves privadas\n",
        "alice_private = random.randint(1, p - 1)\n",
        "bob_private = random.randint(1, p - 1)\n",
        "\n",
        "# Claves públicas\n",
        "alice_public = pow(g, alice_private, p)\n",
        "bob_public = pow(g, bob_private, p)\n",
        "\n",
        "# Imprimir la clave privada de Alice antes de la primera entrada\n",
        "print(f\"Alice's Private Key: {alice_private}\")\n",
        "print(f\"Generated Diffie-Hellman keys:\")\n",
        "print(f\"Public Parameters: p = {p}, g = {g}\")\n",
        "print(f\"Alice's Public Key: A = {alice_public}\")\n",
        "print(f\"Bob's Public Key: B = {bob_public}\")\n",
        "\n",
        "input(\"\\nPress ENTER to start brute force attack...\")\n",
        "\n",
        "# Ataque por fuerza bruta (probando todas las claves privadas posibles)\n",
        "print(\"\\nStarting brute force attack...\")\n",
        "start_time = time.time()\n",
        "\n",
        "found_key = False\n",
        "for attempt in range(1, p):\n",
        "    generated_A = pow(g, attempt, p)  # Cálculo de la clave pública de Alice\n",
        "    print(f\"Trying private key = {attempt} (Expected: {alice_public}, Got: {generated_A})\")\n",
        "    time.sleep(0.005)  # Pequeña demora para visibilidad\n",
        "    if generated_A == alice_public:\n",
        "        found_key = True\n",
        "        break\n",
        "\n",
        "end_time = time.time()\n",
        "brute_force_time = end_time - start_time  # Guarda el tiempo del ataque\n",
        "\n",
        "if found_key:\n",
        "    print(f\"\\nBrute Force Attack: Key found! Private Key = {attempt}\")\n",
        "else:\n",
        "    print(\"\\nBrute Force Attack: Key not found within range.\")\n",
        "\n",
        "print(f\"Brute Force took: {brute_force_time:.4f} seconds\")\n",
        "\n",
        "# Simulación del algoritmo de Shor\n",
        "print(\"\\nPress ENTER to simulate Shor’s Algorithm...\")\n",
        "input()\n",
        "print(\"\\nSimulating Shor’s Algorithm...\")\n",
        "\n",
        "# Calcular y formatear el tiempo de Shor's Algorithm\n",
        "shor_time = brute_force_time / 1_000_000  # Dividir el tiempo de fuerza bruta por 1,000,000\n",
        "print(f\"\\nSimulated Shor’s Algorithm: Private Key = {alice_private}\")\n",
        "print(f\"Shor's time= {brute_force_time:.4f} / 1,000,000 = {shor_time:.10f} seconds\")\n"
      ]
    }
  ],
  "metadata": {
    "colab": {
      "provenance": [],
      "toc_visible": true
    },
    "kernelspec": {
      "display_name": "Python 3",
      "name": "python3"
    },
    "language_info": {
      "codemirror_mode": {
        "name": "ipython",
        "version": 3
      },
      "file_extension": ".py",
      "mimetype": "text/x-python",
      "name": "python",
      "nbconvert_exporter": "python",
      "pygments_lexer": "ipython3",
      "version": "3.13.2"
    }
  },
  "nbformat": 4,
  "nbformat_minor": 0
}
